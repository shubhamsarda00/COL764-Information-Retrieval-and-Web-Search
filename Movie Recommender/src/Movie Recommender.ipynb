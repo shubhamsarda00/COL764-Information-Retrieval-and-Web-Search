{
 "cells": [
  {
   "cell_type": "markdown",
   "metadata": {
    "id": "mkR69--kvTJc"
   },
   "source": [
    "# Web Scraping"
   ]
  },
  {
   "cell_type": "code",
   "execution_count": 2,
   "metadata": {
    "id": "jzGKQ2Wq53o_"
   },
   "outputs": [
    {
     "name": "stdout",
     "output_type": "stream",
     "text": [
      "Enter Movie Name\n",
      "> return of jedi\n",
      "Webpage to be scraped: http://www.imdb.com/title/tt0086190/?ref_=fn_al_tt_1\n",
      "After a daring mission to rescue Han Solo from Jabba the Hutt, the Rebels dispatch to Endor to destroy the second Death Star. Meanwhile, Luke struggles to help Darth Vader back from the dark side without falling into the Emperor's trap.\n"
     ]
    }
   ],
   "source": [
    "from bs4 import BeautifulSoup\n",
    "import requests\n",
    "from urllib.parse import urljoin \n",
    "\n",
    "def first_search_result(url):\n",
    "    headers = {'User-Agent': 'Mozilla/5.0'}\n",
    "    response = requests.get(url, headers=headers)\n",
    "    soup = BeautifulSoup(response.text, \"html.parser\")\n",
    "    first_result = soup.find('td', 'result_text').find('a').get('href')\n",
    "\n",
    "    return first_result\n",
    "def movie_description(next_page_url2):\n",
    "    headers = {'User-Agent': 'Mozilla/5.0'}\n",
    "    response = requests.get(next_page_url2, headers=headers)\n",
    "    soup = BeautifulSoup(response.text, \"html.parser\")\n",
    "    #return soup.find(\"div\", class_=\"summary_text\").contents[0].strip()  # old version\n",
    "    # class to be searhed may need to be changed depending on website updates. Just right click and inspect the description \n",
    "    # to get correct class.\n",
    "    return soup.find(\"span\", class_=\"sc-16ede01-1 kgphFu\").get_text().strip()\n",
    "def scrapeDescription(movieName):\n",
    "\n",
    "    movieName = movieName.replace(' ','+')\n",
    "    url = \"http://www.imdb.com/find?ref_=nv_sr_fn&q=\" + movieName + '&s=all'\n",
    "    try:\n",
    "        next_page = first_search_result(url)\n",
    "    except:\n",
    "        print(movieName)\n",
    "        return \" \"\n",
    "    next_page_url = urljoin(url, next_page)\n",
    "    print(\"Webpage to be scraped: \"+ next_page_url)\n",
    "    try:\n",
    "        return movie_description(next_page_url)\n",
    "    except:\n",
    "        print(movieName)\n",
    "        return \" \"\n",
    "\n",
    "movieName=input(\"Enter Movie Name\\n> \")\n",
    "print(scrapeDescription(movieName))"
   ]
  },
  {
   "cell_type": "markdown",
   "metadata": {
    "id": "HdrUMpohu9da"
   },
   "source": [
    "# Uploading Datasets"
   ]
  },
  {
   "cell_type": "code",
   "execution_count": null,
   "metadata": {
    "id": "8iXyKCP1wSk8"
   },
   "outputs": [],
   "source": [
    "# from google.colab import drive\n",
    "\n",
    "# drive.mount('/content/gdrive')\n"
   ]
  },
  {
   "cell_type": "code",
   "execution_count": 3,
   "metadata": {
    "colab": {
     "base_uri": "https://localhost:8080/"
    },
    "id": "Wn7h5YKtwq1C",
    "outputId": "596d9836-9642-4838-d705-3397902fbcf4"
   },
   "outputs": [],
   "source": [
    "import numpy as np\n",
    "import pandas as pd\n",
    "import pickle\n",
    "import numpy as np\n",
    "import tensorflow as tf\n",
    "import random \n",
    "import keras\n",
    "import time\n",
    "total=time.time()\n",
    "from keras.layers import Embedding\n",
    "from keras.models import Model\n",
    "from keras.layers import *\n",
    "#!pip install keras_self_attention\n",
    "from keras_self_attention import SeqSelfAttention\n",
    "from keras.callbacks import ModelCheckpoint, EarlyStopping,LearningRateScheduler\n",
    "from keras.initializers import TruncatedNormal\n",
    "#create_embs\n",
    "movies=pd.read_csv('data/movies_scraped.csv')\n",
    "movies.description=movies.description+\" \"+movies.title+\" \"+movies.genre\n",
    "#movies['embeddings']=movies.description.apply(lambda x: tokenizer.encode(str(x)))\n",
    "movies['embeddings']=pickle.load( open( \"data/embeds.pkl\", \"rb\" ) )\n",
    "ratings=pd.read_csv('data/ratings.csv')\n",
    "##############user###########################\n",
    "len(ratings.movie_id)\n",
    "pd.set_option('mode.chained_assignment', None)"
   ]
  },
  {
   "cell_type": "code",
   "execution_count": 7,
   "metadata": {
    "id": "iQB-KYlIwyWF"
   },
   "outputs": [
    {
     "data": {
      "text/html": [
       "<div>\n",
       "<style scoped>\n",
       "    .dataframe tbody tr th:only-of-type {\n",
       "        vertical-align: middle;\n",
       "    }\n",
       "\n",
       "    .dataframe tbody tr th {\n",
       "        vertical-align: top;\n",
       "    }\n",
       "\n",
       "    .dataframe thead th {\n",
       "        text-align: right;\n",
       "    }\n",
       "</style>\n",
       "<table border=\"1\" class=\"dataframe\">\n",
       "  <thead>\n",
       "    <tr style=\"text-align: right;\">\n",
       "      <th></th>\n",
       "      <th>user_id</th>\n",
       "      <th>movie_id</th>\n",
       "      <th>rating</th>\n",
       "      <th>timestamp</th>\n",
       "    </tr>\n",
       "  </thead>\n",
       "  <tbody>\n",
       "    <tr>\n",
       "      <th>0</th>\n",
       "      <td>1</td>\n",
       "      <td>1193</td>\n",
       "      <td>5</td>\n",
       "      <td>978300760</td>\n",
       "    </tr>\n",
       "    <tr>\n",
       "      <th>1</th>\n",
       "      <td>1</td>\n",
       "      <td>661</td>\n",
       "      <td>3</td>\n",
       "      <td>978302109</td>\n",
       "    </tr>\n",
       "    <tr>\n",
       "      <th>2</th>\n",
       "      <td>1</td>\n",
       "      <td>914</td>\n",
       "      <td>3</td>\n",
       "      <td>978301968</td>\n",
       "    </tr>\n",
       "    <tr>\n",
       "      <th>3</th>\n",
       "      <td>1</td>\n",
       "      <td>3408</td>\n",
       "      <td>4</td>\n",
       "      <td>978300275</td>\n",
       "    </tr>\n",
       "    <tr>\n",
       "      <th>4</th>\n",
       "      <td>1</td>\n",
       "      <td>2355</td>\n",
       "      <td>5</td>\n",
       "      <td>978824291</td>\n",
       "    </tr>\n",
       "  </tbody>\n",
       "</table>\n",
       "</div>"
      ],
      "text/plain": [
       "   user_id  movie_id  rating  timestamp\n",
       "0        1      1193       5  978300760\n",
       "1        1       661       3  978302109\n",
       "2        1       914       3  978301968\n",
       "3        1      3408       4  978300275\n",
       "4        1      2355       5  978824291"
      ]
     },
     "execution_count": 7,
     "metadata": {},
     "output_type": "execute_result"
    }
   ],
   "source": [
    "# userdata=pd.read_csv(\"ml-1m/users.dat\",sep='::',header=None)\n",
    "# userdata.head()\n",
    "# userdata.columns=[\"user_id\",\"gender\",\"age_group\",\"occupation\",\"zipcode\"]\n",
    "# userdata.to_csv('users.csv',index=False)\n",
    "ratings.head()"
   ]
  },
  {
   "cell_type": "code",
   "execution_count": 8,
   "metadata": {},
   "outputs": [
    {
     "data": {
      "text/html": [
       "<div>\n",
       "<style scoped>\n",
       "    .dataframe tbody tr th:only-of-type {\n",
       "        vertical-align: middle;\n",
       "    }\n",
       "\n",
       "    .dataframe tbody tr th {\n",
       "        vertical-align: top;\n",
       "    }\n",
       "\n",
       "    .dataframe thead th {\n",
       "        text-align: right;\n",
       "    }\n",
       "</style>\n",
       "<table border=\"1\" class=\"dataframe\">\n",
       "  <thead>\n",
       "    <tr style=\"text-align: right;\">\n",
       "      <th></th>\n",
       "      <th>Unnamed: 0</th>\n",
       "      <th>movie_id</th>\n",
       "      <th>title</th>\n",
       "      <th>genre</th>\n",
       "      <th>description</th>\n",
       "      <th>embeddings</th>\n",
       "    </tr>\n",
       "  </thead>\n",
       "  <tbody>\n",
       "    <tr>\n",
       "      <th>0</th>\n",
       "      <td>0</td>\n",
       "      <td>1</td>\n",
       "      <td>Toy Story (1995)</td>\n",
       "      <td>Animation Children's Comedy</td>\n",
       "      <td>A cowboy doll is profoundly threatened and jea...</td>\n",
       "      <td>[-0.20858312, 0.88775766, 0.3227467, -0.615751...</td>\n",
       "    </tr>\n",
       "    <tr>\n",
       "      <th>1</th>\n",
       "      <td>1</td>\n",
       "      <td>2</td>\n",
       "      <td>Jumanji (1995)</td>\n",
       "      <td>Adventure Children's Fantasy</td>\n",
       "      <td>When two kids find and play a magical board ga...</td>\n",
       "      <td>[-0.17402853, -0.40350446, -0.31173387, 0.1971...</td>\n",
       "    </tr>\n",
       "    <tr>\n",
       "      <th>2</th>\n",
       "      <td>2</td>\n",
       "      <td>3</td>\n",
       "      <td>Grumpier Old Men (1995)</td>\n",
       "      <td>Comedy Romance</td>\n",
       "      <td>John and Max resolve to save their beloved bai...</td>\n",
       "      <td>[0.65241635, 0.37577626, 0.10167889, 0.9934018...</td>\n",
       "    </tr>\n",
       "    <tr>\n",
       "      <th>3</th>\n",
       "      <td>3</td>\n",
       "      <td>4</td>\n",
       "      <td>Waiting to Exhale (1995)</td>\n",
       "      <td>Comedy Drama</td>\n",
       "      <td>Based on Terry McMillan's novel, this film fol...</td>\n",
       "      <td>[0.27629364, 0.16062407, 0.09226728, -0.066186...</td>\n",
       "    </tr>\n",
       "    <tr>\n",
       "      <th>4</th>\n",
       "      <td>4</td>\n",
       "      <td>5</td>\n",
       "      <td>Father of the Bride Part II (1995)</td>\n",
       "      <td>Comedy</td>\n",
       "      <td>George Banks must deal not only with the pregn...</td>\n",
       "      <td>[0.78778785, -0.5128158, -0.25456566, 0.018650...</td>\n",
       "    </tr>\n",
       "  </tbody>\n",
       "</table>\n",
       "</div>"
      ],
      "text/plain": [
       "   Unnamed: 0  movie_id                               title  \\\n",
       "0           0         1                    Toy Story (1995)   \n",
       "1           1         2                      Jumanji (1995)   \n",
       "2           2         3             Grumpier Old Men (1995)   \n",
       "3           3         4            Waiting to Exhale (1995)   \n",
       "4           4         5  Father of the Bride Part II (1995)   \n",
       "\n",
       "                          genre  \\\n",
       "0   Animation Children's Comedy   \n",
       "1  Adventure Children's Fantasy   \n",
       "2                Comedy Romance   \n",
       "3                  Comedy Drama   \n",
       "4                        Comedy   \n",
       "\n",
       "                                         description  \\\n",
       "0  A cowboy doll is profoundly threatened and jea...   \n",
       "1  When two kids find and play a magical board ga...   \n",
       "2  John and Max resolve to save their beloved bai...   \n",
       "3  Based on Terry McMillan's novel, this film fol...   \n",
       "4  George Banks must deal not only with the pregn...   \n",
       "\n",
       "                                          embeddings  \n",
       "0  [-0.20858312, 0.88775766, 0.3227467, -0.615751...  \n",
       "1  [-0.17402853, -0.40350446, -0.31173387, 0.1971...  \n",
       "2  [0.65241635, 0.37577626, 0.10167889, 0.9934018...  \n",
       "3  [0.27629364, 0.16062407, 0.09226728, -0.066186...  \n",
       "4  [0.78778785, -0.5128158, -0.25456566, 0.018650...  "
      ]
     },
     "execution_count": 8,
     "metadata": {},
     "output_type": "execute_result"
    }
   ],
   "source": [
    "movies.head()"
   ]
  },
  {
   "cell_type": "code",
   "execution_count": 5,
   "metadata": {},
   "outputs": [
    {
     "data": {
      "text/html": [
       "<div>\n",
       "<style scoped>\n",
       "    .dataframe tbody tr th:only-of-type {\n",
       "        vertical-align: middle;\n",
       "    }\n",
       "\n",
       "    .dataframe tbody tr th {\n",
       "        vertical-align: top;\n",
       "    }\n",
       "\n",
       "    .dataframe thead th {\n",
       "        text-align: right;\n",
       "    }\n",
       "</style>\n",
       "<table border=\"1\" class=\"dataframe\">\n",
       "  <thead>\n",
       "    <tr style=\"text-align: right;\">\n",
       "      <th></th>\n",
       "      <th>user_id</th>\n",
       "      <th>gender</th>\n",
       "      <th>age_group</th>\n",
       "      <th>occupation</th>\n",
       "      <th>zipcode</th>\n",
       "    </tr>\n",
       "  </thead>\n",
       "  <tbody>\n",
       "    <tr>\n",
       "      <th>0</th>\n",
       "      <td>1</td>\n",
       "      <td>F</td>\n",
       "      <td>1</td>\n",
       "      <td>10</td>\n",
       "      <td>48067</td>\n",
       "    </tr>\n",
       "    <tr>\n",
       "      <th>1</th>\n",
       "      <td>2</td>\n",
       "      <td>M</td>\n",
       "      <td>56</td>\n",
       "      <td>16</td>\n",
       "      <td>70072</td>\n",
       "    </tr>\n",
       "    <tr>\n",
       "      <th>2</th>\n",
       "      <td>3</td>\n",
       "      <td>M</td>\n",
       "      <td>25</td>\n",
       "      <td>15</td>\n",
       "      <td>55117</td>\n",
       "    </tr>\n",
       "    <tr>\n",
       "      <th>3</th>\n",
       "      <td>4</td>\n",
       "      <td>M</td>\n",
       "      <td>45</td>\n",
       "      <td>7</td>\n",
       "      <td>02460</td>\n",
       "    </tr>\n",
       "    <tr>\n",
       "      <th>4</th>\n",
       "      <td>5</td>\n",
       "      <td>M</td>\n",
       "      <td>25</td>\n",
       "      <td>20</td>\n",
       "      <td>55455</td>\n",
       "    </tr>\n",
       "  </tbody>\n",
       "</table>\n",
       "</div>"
      ],
      "text/plain": [
       "   user_id gender  age_group  occupation zipcode\n",
       "0        1      F          1          10   48067\n",
       "1        2      M         56          16   70072\n",
       "2        3      M         25          15   55117\n",
       "3        4      M         45           7   02460\n",
       "4        5      M         25          20   55455"
      ]
     },
     "execution_count": 5,
     "metadata": {},
     "output_type": "execute_result"
    }
   ],
   "source": [
    "users=pd.read_csv(\"data/users.csv\")\n",
    "users.head()\n"
   ]
  },
  {
   "cell_type": "markdown",
   "metadata": {
    "id": "w9CvHsMTvDo5"
   },
   "source": [
    "# Item-Item Collaborative Filtering"
   ]
  },
  {
   "cell_type": "code",
   "execution_count": 9,
   "metadata": {
    "id": "K4Iggzq6x_SF"
   },
   "outputs": [],
   "source": [
    "\n",
    "def cos_sim(a,b):\n",
    "    return np.dot(a, b) / (np.linalg.norm(a) * np.linalg.norm(b))\n",
    "\n",
    "def pcc(a,b):\n",
    "    return sum((a-a.mean())*(b-b.mean()))/(np.sqrt(sum((a-a.mean())**2))*np.sqrt(sum((b-b.mean())**2)))\n",
    "def recommend(user_id,num_movies):\n",
    "    i=0\n",
    "    movie_list=ratings.loc[(ratings['user_id']==user_id  )]\n",
    "    #movie_list['embeddings']=movie_list.apply(lambda x:tokenizer.encode(x.description))\n",
    "    user_ratings=ratings.loc[ratings.user_id==user_id]\n",
    "    preds=pd.DataFrame()\n",
    "    for x in movies.itertuples():\n",
    "        i+=1\n",
    "        #print(i)\n",
    "        if(x.movie_id in movie_list):\n",
    "            continue\n",
    "        else:\n",
    "            emb=x.embeddings\n",
    "            num=den=0\n",
    "            for y in user_ratings.itertuples():\n",
    "                #print(y.movie_id)\n",
    "                #print(movies.loc[movies.movie_id==y.movie_id].embeddings.item())\n",
    "                #sim=cos_sim(emb,movies.loc[movies.movie_id==y.movie_id].embeddings.item())\n",
    "                sim=pcc(emb,movies.loc[movies.movie_id==y.movie_id].embeddings.item())\n",
    "                num+=y.rating*sim\n",
    "                den+=sim\n",
    "            #print({'movie_id': x.movie_id,'title':x.title,'rating':num/den})\n",
    "            temp=pd.DataFrame({'movie_id': [x.movie_id],'title':[x.title],'rating':[num/den]})\n",
    "            #print(temp)\n",
    "            preds=preds.append(temp, ignore_index=True)\n",
    "            #print(preds.iloc[0])\n",
    "    #scaling\n",
    "    new_M=user_ratings.rating.max()\n",
    "    new_m=user_ratings.rating.min()\n",
    "    m=preds.rating.min()\n",
    "    M=preds.rating.max()        \n",
    "    preds.rating=preds.rating.apply(lambda x:(x-m)/(M-m)*(new_M-new_m)+new_m)        \n",
    "    return preds.sort_values('rating',ascending=False).iloc[:num_movies]  "
   ]
  },
  {
   "cell_type": "code",
   "execution_count": 10,
   "metadata": {
    "colab": {
     "base_uri": "https://localhost:8080/"
    },
    "id": "4Z7tkLddyAwA",
    "outputId": "1e60a545-2960-43fa-c761-56504b127355"
   },
   "outputs": [
    {
     "name": "stdout",
     "output_type": "stream",
     "text": [
      "Enter user ID: 6\n",
      "Enter number of movies to be recommended 5\n"
     ]
    },
    {
     "name": "stderr",
     "output_type": "stream",
     "text": [
      "C:\\Users\\ASUS\\AppData\\Local\\Temp\\ipykernel_13556\\3623836761.py:30: FutureWarning: The frame.append method is deprecated and will be removed from pandas in a future version. Use pandas.concat instead.\n",
      "  preds=preds.append(temp, ignore_index=True)\n"
     ]
    },
    {
     "data": {
      "text/html": [
       "<div>\n",
       "<style scoped>\n",
       "    .dataframe tbody tr th:only-of-type {\n",
       "        vertical-align: middle;\n",
       "    }\n",
       "\n",
       "    .dataframe tbody tr th {\n",
       "        vertical-align: top;\n",
       "    }\n",
       "\n",
       "    .dataframe thead th {\n",
       "        text-align: right;\n",
       "    }\n",
       "</style>\n",
       "<table border=\"1\" class=\"dataframe\">\n",
       "  <thead>\n",
       "    <tr style=\"text-align: right;\">\n",
       "      <th></th>\n",
       "      <th>movie_id</th>\n",
       "      <th>title</th>\n",
       "      <th>rating</th>\n",
       "    </tr>\n",
       "  </thead>\n",
       "  <tbody>\n",
       "    <tr>\n",
       "      <th>3535</th>\n",
       "      <td>3604</td>\n",
       "      <td>Gypsy (1962)</td>\n",
       "      <td>5.000000</td>\n",
       "    </tr>\n",
       "    <tr>\n",
       "      <th>1737</th>\n",
       "      <td>1797</td>\n",
       "      <td>Everest (1998)</td>\n",
       "      <td>4.977381</td>\n",
       "    </tr>\n",
       "    <tr>\n",
       "      <th>2853</th>\n",
       "      <td>2922</td>\n",
       "      <td>Hang 'em High (1967)</td>\n",
       "      <td>4.952669</td>\n",
       "    </tr>\n",
       "    <tr>\n",
       "      <th>2714</th>\n",
       "      <td>2783</td>\n",
       "      <td>Tomb of Ligeia, The (1965)</td>\n",
       "      <td>4.933361</td>\n",
       "    </tr>\n",
       "    <tr>\n",
       "      <th>3086</th>\n",
       "      <td>3155</td>\n",
       "      <td>Anna and the King (1999)</td>\n",
       "      <td>4.925806</td>\n",
       "    </tr>\n",
       "  </tbody>\n",
       "</table>\n",
       "</div>"
      ],
      "text/plain": [
       "      movie_id                       title    rating\n",
       "3535      3604                Gypsy (1962)  5.000000\n",
       "1737      1797              Everest (1998)  4.977381\n",
       "2853      2922        Hang 'em High (1967)  4.952669\n",
       "2714      2783  Tomb of Ligeia, The (1965)  4.933361\n",
       "3086      3155    Anna and the King (1999)  4.925806"
      ]
     },
     "execution_count": 10,
     "metadata": {},
     "output_type": "execute_result"
    }
   ],
   "source": [
    "user_id = int(input(\"Enter user ID: \"))\n",
    "num_movies=int(input(\"Enter number of movies to be recommended \"))\n",
    "preds=recommend(user_id,num_movies)\n",
    "preds.head()"
   ]
  },
  {
   "cell_type": "markdown",
   "metadata": {
    "id": "YpKosopBvNOu"
   },
   "source": [
    "# User-User Collaborative Filtering"
   ]
  },
  {
   "cell_type": "code",
   "execution_count": 11,
   "metadata": {
    "id": "ic1tUmsNx6gW"
   },
   "outputs": [],
   "source": [
    "#Dictionary of (userID, movieID): (rating)\n",
    "\n",
    "ratingDict = {}\n",
    "for row in ratings.itertuples():\n",
    "    ratingDict[(row.user_id, row.movie_id)] = row.rating"
   ]
  },
  {
   "cell_type": "code",
   "execution_count": 12,
   "metadata": {
    "id": "4sl2G-KztTiR"
   },
   "outputs": [],
   "source": [
    "import math\n",
    "import numpy as np\n",
    "import time\n",
    "\n",
    "#PEARSON COEFFICIENT to calculate similarity between user_a and user_b\n",
    "def returnSim(user_a, user_b):\n",
    "\n",
    "    #find avg ratings given by user1 and user2\n",
    "    avg_a = ratings.loc[(ratings['user_id']==user_a), 'rating'].mean()\n",
    "    avg_b = ratings.loc[(ratings['user_id']==user_b), 'rating'].mean()\n",
    "\n",
    "    sumNum = 0.0 #numerator of the final value in formula\n",
    "    sumDen1 = 0.0 #1st denominator term\n",
    "    sumDen2 = 0.0 #2nd denominator term\n",
    "\n",
    "    for row in movies.itertuples():\n",
    "        findMovie = row.movie_id\n",
    "\n",
    "        rating_a = -1\n",
    "        try:\n",
    "            rating_a = ratingDict[(user_a, findMovie)]\n",
    "        except:\n",
    "            rating_a = -1\n",
    "\n",
    "        rating_b = -1\n",
    "        try:\n",
    "            rating_b = ratingDict[user_b, findMovie]\n",
    "        except:\n",
    "            rating_b = -1\n",
    "\n",
    "        if(not(rating_a == -1 or math.isnan(rating_a))): sumDen1 += pow((rating_a - avg_a),2)\n",
    "        if(not(rating_b == -1 or math.isnan(rating_b))): sumDen2 += pow((rating_b - avg_b),2)\n",
    "        if(not(rating_a == -1 or rating_b == -1 or math.isnan(rating_a) or math.isnan(rating_b))):\n",
    "            sumNum += (rating_a - avg_a)*(rating_b - avg_b)\n",
    "\n",
    "  \n",
    "    if(sumDen1 == 0.0 or sumDen2 == 0.0):  \n",
    "        return 0\n",
    "    simValue = sumNum/( math.sqrt(sumDen1) * math.sqrt(sumDen2)) \n",
    "    return simValue\n"
   ]
  },
  {
   "cell_type": "code",
   "execution_count": 13,
   "metadata": {
    "id": "HLHYbNDiyPU4"
   },
   "outputs": [],
   "source": [
    "#Returns similarity of given user to every other user in form of dict \n",
    "def simDict(userA):\n",
    "    sim2 = {}\n",
    "#     for row in ratings.itertuples(): \n",
    "#         if (row.user_id not in sim2) and (row.user_id != userA): #ie iterating over all unique users\n",
    "#             sim2[row.user_id] = returnSim(userA, row.user_id) \n",
    "    for row in users.itertuples():\n",
    "        if row.user_id != userA:\n",
    "            sim2[row.user_id] = returnSim(userA, row.user_id)        \n",
    "    return sim2\n",
    "def simDict_train(userA,train):\n",
    "    sim2 = {}\n",
    "    for row in train.itertuples(): \n",
    "        if (row.user_id not in sim2) and (row.user_id != userA): #ie iterating over all unique users\n",
    "            sim2[row.user_id] = returnSim(userA, row.user_id) \n",
    "      \n",
    "    return sim2\n",
    "\n"
   ]
  },
  {
   "cell_type": "code",
   "execution_count": 14,
   "metadata": {
    "id": "1ipBvuBoyhsz"
   },
   "outputs": [],
   "source": [
    "#Returns PREDICTED RATING for a given movie by userA\n",
    "\n",
    "def returnRating(userA, movie, similarity):\n",
    "    avgA = ratings.loc[(ratings['user_id']==userA), 'rating'].mean()\n",
    "\n",
    "    sum_Num = 0.0\n",
    "    sum_Denom = 0.0\n",
    "    ctr = 0\n",
    "    k = 100 #how many top users to consider\n",
    "\n",
    "    for user_i in similarity:\n",
    "        if(ctr<k):\n",
    "            ctr += 1\n",
    "\n",
    "            r_ip = -1 #rating by this top user for that movie\n",
    "            try:\n",
    "                r_ip = ratingDict[(user_i, movie)]\n",
    "            except:\n",
    "                pass\n",
    "\n",
    "            if(r_ip == -1 or math.isnan(r_ip)):\n",
    "                #ctr-=1\n",
    "                pass \n",
    "            else:\n",
    "                sum_Num += similarity[user_i] * r_ip\n",
    "                sum_Denom += abs(similarity[user_i])\n",
    "        else:\n",
    "            break\n",
    "  \n",
    "    predRating = 0\n",
    "    try:\n",
    "        predRating = avgA + (sum_Num/sum_Denom)*(1/k)  \n",
    "    except:\n",
    "        pass\n",
    "\n",
    "\n",
    "    return predRating\n",
    "\n"
   ]
  },
  {
   "cell_type": "code",
   "execution_count": 15,
   "metadata": {
    "id": "VK_OYgpNypeB"
   },
   "outputs": [],
   "source": [
    "#Final user recommender function\n",
    "\n",
    "def user_recommend(userA, k):\n",
    "\n",
    "    userRatings = {}  \n",
    "\n",
    "    similarity = simDict(userA)\n",
    "    #print(similarity)\n",
    "    similarity=dict(sorted(similarity.items(), key=lambda item: item[1],reverse=True))\n",
    "    #similarity=sorted(similarity, key = similarity.get, reverse=True)\n",
    "    for row in movies.itertuples():\n",
    "        movieID = row.movie_id\n",
    "        movieName = movies.loc[(movies['movie_id']==movieID), 'title'].iloc[0]\n",
    "\n",
    "        old_rating = -1\n",
    "        try:\n",
    "            old_rating = ratingDict[(userA, movieID)]\n",
    "        except:\n",
    "            pass\n",
    "\n",
    "        if(old_rating == -1 or math.isnan(old_rating)):\n",
    "            userRatings[movieName] = returnRating(userA, movieID, similarity)\n",
    "\n",
    "    moviesSorted = []\n",
    "    ctr = 0\n",
    "    for movie in sorted(userRatings, key=userRatings.get, reverse=True):\n",
    "        if(ctr<k):\n",
    "            ctr += 1\n",
    "            moviesSorted.append(movie)\n",
    "        else:\n",
    "            break\n",
    "\n",
    "    for movie in moviesSorted:\n",
    "        print(movie)\n"
   ]
  },
  {
   "cell_type": "code",
   "execution_count": 16,
   "metadata": {},
   "outputs": [
    {
     "name": "stdout",
     "output_type": "stream",
     "text": [
      "Enter user ID: 18\n",
      "Enter number of movies: 5\n",
      "Total Eclipse (1995)\n",
      "Browning Version, The (1994)\n",
      "Once Were Warriors (1994)\n",
      "What Happened Was... (1994)\n",
      "Underground (1995)\n"
     ]
    }
   ],
   "source": [
    "userID_User = input(\"Enter user ID: \")\n",
    "k_User = input(\"Enter number of movies: \")\n",
    "user_recommend(int(userID_User), int(k_User))"
   ]
  },
  {
   "cell_type": "code",
   "execution_count": 19,
   "metadata": {
    "colab": {
     "base_uri": "https://localhost:8080/"
    },
    "id": "LHg_wSBYyzV_",
    "outputId": "51652654-5c0a-4b0d-a765-78a403209187"
   },
   "outputs": [
    {
     "name": "stdout",
     "output_type": "stream",
     "text": [
      "Enter user ID: 6\n",
      "Enter number of movies: 5\n",
      "Now and Then (1995)\n",
      "Mortal Kombat (1995)\n",
      "Bed of Roses (1996)\n",
      "Once Upon a Time... When We Were Colored (1995)\n",
      "Hate (Haine, La) (1995)\n"
     ]
    }
   ],
   "source": [
    "userID_User = input(\"Enter user ID: \")\n",
    "k_User = input(\"Enter number of movies: \")\n",
    "user_recommend(int(userID_User), int(k_User))"
   ]
  },
  {
   "cell_type": "markdown",
   "metadata": {
    "id": "dh_K3NR3vYrs"
   },
   "source": [
    "# Neural Collaborative Filtering"
   ]
  },
  {
   "cell_type": "code",
   "execution_count": 20,
   "metadata": {
    "id": "G9ZbjYiEyW2c"
   },
   "outputs": [],
   "source": [
    " \n",
    "def NCF_Model1(n_features,n_items,n_users):\n",
    "    \n",
    "    U=Input(shape=(1,), name='User')\n",
    "    M=Input(shape=(1,),name='Movie')\n",
    "    path1=Embedding(n_users,n_features)(U)\n",
    "    path2=Embedding(n_items,n_features,name='pre-trained')(M)\n",
    "    ####for intializing with sentence embeddings\n",
    "    #embedding.set_weights([pretrained_embeddings])\n",
    "    path1=Reshape((n_features,))(path1)\n",
    "    path2=Reshape((n_features,))(path2)\n",
    "    merged=Dot(axes=1)([path1,path2])\n",
    "    \n",
    "    #merged= Dense(32,activation='relu', kernel_initializer='uniform')(merged)\n",
    "    #merged = BatchNormalization()(merged)\n",
    "    #merged= Dense(64,activation='relu', kernel_initializer='uniform')(merged)\n",
    "    #merged = BatchNormalization()(merged)\n",
    "    #merged= Dense(128,activation='relu', kernel_initializer='uniform')(merged)\n",
    "    #merged = BatchNormalization()(merged)\n",
    "    #merged= Dense(256,activation='relu', kernel_initializer='uniform')(merged)\n",
    "    #merged = BatchNormalization()(merged)\n",
    "    #merged= Dense(128,activation='relu', kernel_initializer='uniform')(merged)\n",
    "    #merged = BatchNormalization()(merged)\n",
    "    #merged= Dense(64,activation='relu', kernel_initializer='he_normal')(merged)\n",
    "    #merged = BatchNormalization()(merged)\n",
    "    merged= Dense(32,activation='relu', kernel_initializer='uniform')(merged)\n",
    "    #merged = BatchNormalization()(merged)\n",
    "    merged= Dense(16,activation='relu', kernel_initializer='uniform')(merged)\n",
    "    #merged = BatchNormalization()(merged)\n",
    "    merged= Dense(8,activation='relu', kernel_initializer='uniform')(merged)\n",
    "    #merged = BatchNormalization()(merged)\n",
    "    merged= Dense(1,activation='sigmoid', kernel_initializer='lecun_uniform')(merged)\n",
    "    merged=Lambda(lambda x:x*5)(merged)\n",
    "    \n",
    "    model = Model(inputs=[U,M], outputs=merged, name='NCF_Model_1')\n",
    "    return model\n",
    "\n",
    "def NCF_Model2(n_features,n_items,n_users):\n",
    "    \n",
    "    U=Input(shape=(1,), name='User')\n",
    "    M=Input(shape=(1,),name='Movie')\n",
    "    \n",
    "    path1=Embedding(n_users,n_features,name='User_Embedding')(U)\n",
    "    \n",
    "    \n",
    "    path2=Embedding(n_items,n_features,name='Pre-trained_Movie_Embedding')(M)\n",
    "    \n",
    "    ####for intializing with sentence embeddings\n",
    "    #embedding.set_weights([pretrained_embeddings])\n",
    "    path1=Reshape((n_features,))(path1)\n",
    "    path1=Dense(256,activation='gelu', kernel_initializer='uniform')(path1)\n",
    "    path1 = BatchNormalization()(path1)\n",
    "    path2=Reshape((n_features,))(path2)\n",
    "    path2=Dense(256,activation='gelu', kernel_initializer='uniform')(path2)\n",
    "    path2 = BatchNormalization()(path2)\n",
    "    #merged=(axes=1)([path1,path2])\n",
    "    #merged = Add()([path1, path2])\n",
    "    merged = Concatenate()([path1, path2])\n",
    "    merged= Dense(512,activation='gelu', kernel_initializer='uniform')(merged)\n",
    "    merged = BatchNormalization()(merged)\n",
    "    merged= Dense(256,activation='gelu', kernel_initializer='uniform')(merged)\n",
    "    merged = BatchNormalization()(merged)\n",
    "    merged=Dropout(0.1)(merged)\n",
    "    merged= Dense(128,activation='gelu', kernel_initializer='uniform')(merged)\n",
    "    merged = BatchNormalization()(merged)\n",
    "    merged= Dense(64,activation='gelu', kernel_initializer='uniform')(merged)\n",
    "    merged = BatchNormalization()(merged)\n",
    "    merged=Dropout(0.1)(merged)\n",
    "    merged= Dense(32,activation='gelu', kernel_initializer='uniform')(merged)\n",
    "    merged = BatchNormalization()(merged)\n",
    "    merged= Dense(16,activation='gelu', kernel_initializer='uniform')(merged)\n",
    "    merged = BatchNormalization()(merged)\n",
    "    merged= Dense(8,activation='gelu', kernel_initializer='uniform')(merged)\n",
    "    merged = BatchNormalization()(merged)\n",
    "    merged= Dense(1,activation='gelu', kernel_initializer='uniform')(merged)\n",
    "    \n",
    "    \n",
    "    model = Model(inputs=[U,M], outputs=merged, name='NCF_Model_2')\n",
    "    return model\n",
    "\n",
    "\n",
    "def NCF_Model3(n_features,n_items,n_users):\n",
    "    \n",
    "    U=Input(shape=(1,), name='User')\n",
    "    M=Input(shape=(1,),name='Movie')\n",
    "    \n",
    "    path1=Embedding(n_users,n_features, name='User_Embedding')(U)\n",
    "    \n",
    "    \n",
    "    path2=Embedding(n_items,n_features,name='Pre-trained_Movie_Embedding')(M)\n",
    "    \n",
    "    ####for intializing with sentence embeddings\n",
    "    #path1.set_weights([a])\n",
    "    path1=Reshape((n_features,))(path1)\n",
    "    path1=Dense(128,activation='gelu', kernel_initializer='uniform')(path1)\n",
    "    \n",
    "    path2=Reshape((n_features,))(path2)\n",
    "   \n",
    "\n",
    "    path2=Dense(128,activation='gelu', kernel_initializer='uniform')(path2)\n",
    "    #merged=(axes=1)([path1,path2])\n",
    "    merged = Concatenate()([path1, path2])\n",
    "    #merged=Add()([path1,path2])\n",
    "    \n",
    "    merged= Dense(128,activation='gelu', kernel_initializer='uniform')(merged)\n",
    "    merged_1 = BatchNormalization()(merged)\n",
    "    merged= Dense(256,activation='gelu', kernel_initializer='uniform')(merged_1)\n",
    "    merged_2 = BatchNormalization()(merged)\n",
    "    merged=Dropout(0.1)(merged_2)\n",
    "    merged= Dense(512,activation='gelu', kernel_initializer='uniform')(merged)\n",
    "    merged_3 = BatchNormalization()(merged)\n",
    "    merged= Dense(1024,activation='gelu', kernel_initializer='uniform')(merged_3)\n",
    "    merged = BatchNormalization()(merged)\n",
    "    merged= Dense(512,activation='gelu', kernel_initializer='uniform')(merged)\n",
    "    merged = BatchNormalization()(merged)\n",
    "    ###########Skip connection 1\n",
    "    merged= Add()([merged, merged_3])\n",
    "    \n",
    "    merged= Dense(256,activation='gelu', kernel_initializer='uniform')(merged)\n",
    "    merged = BatchNormalization()(merged)\n",
    "    ###########Skip connection 2\n",
    "    merged= Add()([merged, merged_2])\n",
    "    \n",
    "    \n",
    "    merged= Dense(128,activation='gelu', kernel_initializer='uniform')(merged)\n",
    "    merged = BatchNormalization()(merged)\n",
    "    ###########Skip connection 3\n",
    "    merged=Add()([merged_1,merged])\n",
    "    \n",
    "    merged= Dense(64,activation='gelu', kernel_initializer='uniform')(merged)\n",
    "    merged = BatchNormalization()(merged)\n",
    "    merged=Dropout(0.1)(merged)\n",
    "    merged= Dense(32,activation='gelu', kernel_initializer='uniform')(merged)\n",
    "    merged = BatchNormalization()(merged)\n",
    "    merged= Dense(16,activation='gelu', kernel_initializer='uniform')(merged)\n",
    "    merged = BatchNormalization()(merged)\n",
    "    merged= Dense(8,activation='gelu', kernel_initializer='uniform')(merged)\n",
    "    merged = BatchNormalization()(merged)\n",
    "    merged= Dense(1,activation='gelu', kernel_initializer='uniform')(merged)\n",
    "    \n",
    "    \n",
    "    \n",
    "    model = Model(inputs=[U,M], outputs=merged, name='NCF_Model_3')\n",
    "    return model\n",
    "def NCF_Model6(n_features,n_items,n_users):\n",
    "    \n",
    "    U=Input(shape=(1,), name='User')\n",
    "    M=Input(shape=(1,),name='Movie')\n",
    "    \n",
    "    path1=Embedding(n_users,n_features)(U)\n",
    "    \n",
    "    \n",
    "    path2=Embedding(n_items,n_features,name='Pre-trained_Movie_Embedding')(M)\n",
    "    \n",
    "    ####for intializing with sentence embeddings\n",
    "    #path1.set_weights([a])\n",
    "    path1=Reshape((n_features,))(path1)\n",
    "    path1=Dense(256,activation='gelu', kernel_initializer='uniform')(path1)\n",
    "    \n",
    "    #path2=Reshape((n_features,))(path2)\n",
    "    path2=Bidirectional(LSTM(256,return_sequences=True))(path2)\n",
    "    path2=SeqSelfAttention(attention_type=SeqSelfAttention.ATTENTION_TYPE_MUL,attention_activation='sigmoid')(path2)\n",
    "    path2=TimeDistributed(Dense(8,activation='gelu', kernel_initializer='uniform'))(path2)\n",
    "    path2=Bidirectional(LSTM(256))(path2)\n",
    "    #path2=SeqSelfAttention(attention_type=SeqSelfAttention.ATTENTION_TYPE_MUL,attention_activation='sigmoid')(path2)\n",
    "    path2=Dense(256,activation='gelu', kernel_initializer='uniform')(path2)\n",
    "    #merged=(axes=1)([path1,path2])\n",
    "    merged = Concatenate()([path1, path2])\n",
    "    merged= Dense(512,activation='gelu', kernel_initializer='uniform')(merged)\n",
    "    merged = BatchNormalization()(merged)\n",
    "    merged= Dense(256,activation='gelu', kernel_initializer='uniform')(merged)\n",
    "    merged = BatchNormalization()(merged)\n",
    "    merged=Dropout(0.1)(merged)\n",
    "    merged= Dense(128,activation='gelu', kernel_initializer='uniform')(merged)\n",
    "    merged = BatchNormalization()(merged)\n",
    "    merged=Dropout(0.1)(merged)\n",
    "    merged= Dense(64,activation='gelu', kernel_initializer='uniform')(merged)\n",
    "    merged = BatchNormalization()(merged)\n",
    "    merged= Dense(32,activation='gelu', kernel_initializer='uniform')(merged)\n",
    "    merged = BatchNormalization()(merged)\n",
    "    merged= Dense(16,activation='gelu', kernel_initializer='uniform')(merged)\n",
    "    merged = BatchNormalization()(merged)\n",
    "    merged= Dense(8,activation='gelu', kernel_initializer='uniform')(merged)\n",
    "    merged = BatchNormalization()(merged)\n",
    "    merged= Dense(1,activation='gelu', kernel_initializer='uniform')(merged)\n",
    "    #merged=Lambda(lambda x:x*4+1)(merged)\n",
    "    \n",
    "    model = Model(inputs=[U,M], outputs=merged, name='NCF_Model_4')\n",
    "    return model\n",
    " \n",
    " \n",
    "def NCF_Model7(n_features,n_items,n_users):\n",
    "    \n",
    "    U=Input(shape=(1,), name='User')\n",
    "    M=Input(shape=(1,),name='Movie')\n",
    "    \n",
    "    path1=Embedding(n_users,n_features)(U)\n",
    "    \n",
    "    \n",
    "    path2=Embedding(n_items,n_features,name='Pre-trained_Movie_Embedding')(M)\n",
    "    \n",
    "    ####for intializing with sentence embeddings\n",
    "    #path1.set_weights([a])\n",
    "    path1=Reshape((n_features,))(path1)\n",
    "    path1=Dense(256,activation='gelu', kernel_initializer='uniform')(path1)\n",
    "    \n",
    "    #path2=Reshape((n_features,))(path2)\n",
    "    path2=Bidirectional(LSTM(256,return_sequences=True))(path2)\n",
    "    path2=SeqSelfAttention(attention_type=SeqSelfAttention.ATTENTION_TYPE_MUL,attention_activation='sigmoid')(path2)\n",
    "    path2=TimeDistributed(Dense(8,activation='gelu', kernel_initializer='uniform'))(path2)\n",
    "    path2=Bidirectional(LSTM(256))(path2)\n",
    "    #path2=SeqSelfAttention(attention_type=SeqSelfAttention.ATTENTION_TYPE_MUL,attention_activation='sigmoid')(path2)\n",
    "    path2=Dense(256,activation='gelu', kernel_initializer='uniform')(path2)\n",
    "    #merged=(axes=1)([path1,path2])\n",
    "    merged = Concatenate()([path1, path2]) \n",
    "    \n",
    "    merged= Dense(128,activation='gelu', kernel_initializer='uniform')(merged)\n",
    "    merged_1 = BatchNormalization()(merged)\n",
    "    merged= Dense(256,activation='gelu', kernel_initializer='uniform')(merged_1)\n",
    "    merged_2 = BatchNormalization()(merged)\n",
    "    merged=Dropout(0.1)(merged_2)\n",
    "    merged= Dense(512,activation='gelu', kernel_initializer='uniform')(merged)\n",
    "    merged_3 = BatchNormalization()(merged)\n",
    "    merged= Dense(1024,activation='gelu', kernel_initializer='uniform')(merged_3)\n",
    "    merged = BatchNormalization()(merged)\n",
    "    merged= Dense(512,activation='gelu', kernel_initializer='uniform')(merged)\n",
    "    merged = BatchNormalization()(merged)\n",
    "    ###########Skip connection 1\n",
    "    merged= Add()([merged, merged_3])\n",
    "    \n",
    "    merged= Dense(256,activation='gelu', kernel_initializer='uniform')(merged)\n",
    "    merged = BatchNormalization()(merged)\n",
    "    ###########Skip connection 2\n",
    "    merged= Add()([merged, merged_2])\n",
    "    \n",
    "    \n",
    "    merged= Dense(128,activation='gelu', kernel_initializer='uniform')(merged)\n",
    "    merged = BatchNormalization()(merged)\n",
    "    ###########Skip connection 3\n",
    "    merged=Add()([merged_1,merged])\n",
    "    \n",
    "    merged= Dense(64,activation='gelu', kernel_initializer='uniform')(merged)\n",
    "    merged = BatchNormalization()(merged)\n",
    "    merged=Dropout(0.1)(merged)\n",
    "    merged= Dense(32,activation='gelu', kernel_initializer='uniform')(merged)\n",
    "    merged = BatchNormalization()(merged)\n",
    "    merged= Dense(16,activation='gelu', kernel_initializer='uniform')(merged)\n",
    "    merged = BatchNormalization()(merged)\n",
    "    merged= Dense(8,activation='gelu', kernel_initializer='uniform')(merged)\n",
    "    merged = BatchNormalization()(merged)\n",
    "    merged= Dense(1,activation='gelu', kernel_initializer='uniform')(merged)\n",
    "    \n",
    "    \n",
    "    \n",
    "    model = Model(inputs=[U,M], outputs=merged, name='NCF_Model_5')\n",
    "    return model\n",
    "    \n",
    "def NCF_Model4(n_features,n_items,n_users):\n",
    "    \n",
    "    U=Input(shape=(1,), name='User')\n",
    "    M=Input(shape=(1,),name='Movie')\n",
    "    \n",
    "    path1=Embedding(n_users,n_features)(U)\n",
    "    \n",
    "    \n",
    "    path2=Embedding(n_items,(40*300),name='Pre-trained_Movie_Embedding',)(M)\n",
    "    \n",
    "    ####for intializing with sentence embeddings\n",
    "    #path1.set_weights([a])\n",
    "    path1=Reshape((n_features,))(path1)\n",
    "    path1=Dense(256,activation='gelu', kernel_initializer='uniform')(path1)\n",
    "    \n",
    "    path2=Reshape((40,300))(path2)\n",
    "    path2=Bidirectional(LSTM(256,input_shape=(40,300),return_sequences=True))(path2)\n",
    "    path2=SeqSelfAttention(attention_type=SeqSelfAttention.ATTENTION_TYPE_MUL,attention_activation='sigmoid')(path2)\n",
    "    path2=TimeDistributed(Dense(8,activation='gelu', kernel_initializer='uniform'))(path2)\n",
    "    path2=Bidirectional(LSTM(256))(path2)\n",
    "    #path2=SeqSelfAttention(attention_type=SeqSelfAttention.ATTENTION_TYPE_MUL,attention_activation='sigmoid')(path2)\n",
    "    path2=Dense(256,activation='gelu', kernel_initializer='uniform')(path2)\n",
    "    #merged=(axes=1)([path1,path2])\n",
    "    merged = Concatenate()([path1, path2])\n",
    "    merged= Dense(512,activation='gelu', kernel_initializer='uniform')(merged)\n",
    "    merged = BatchNormalization()(merged)\n",
    "    merged= Dense(256,activation='gelu', kernel_initializer='uniform')(merged)\n",
    "    merged = BatchNormalization()(merged)\n",
    "    merged=Dropout(0.1)(merged)\n",
    "    merged= Dense(128,activation='gelu', kernel_initializer='uniform')(merged)\n",
    "    merged = BatchNormalization()(merged)\n",
    "    merged= Dense(64,activation='gelu', kernel_initializer='uniform')(merged)\n",
    "    merged = BatchNormalization()(merged)\n",
    "    merged=Dropout(0.1)(merged)\n",
    "    merged= Dense(32,activation='gelu', kernel_initializer='uniform')(merged)\n",
    "    merged = BatchNormalization()(merged)\n",
    "    merged= Dense(16,activation='gelu', kernel_initializer='uniform')(merged)\n",
    "    merged = BatchNormalization()(merged)\n",
    "    merged= Dense(8,activation='gelu', kernel_initializer='uniform')(merged)\n",
    "    merged = BatchNormalization()(merged)\n",
    "    merged= Dense(1,activation='gelu', kernel_initializer='uniform')(merged)\n",
    "    \n",
    "    \n",
    "    model = Model(inputs=[U,M], outputs=merged, name='NCF_Model_6')\n",
    "    return model\n",
    "    \n",
    "def NCF_Model5(n_features,n_items,n_users):\n",
    "    \n",
    "    U=Input(shape=(1,), name='User')\n",
    "    M=Input(shape=(1,),name='Movie')\n",
    "    \n",
    "    path1=Embedding(n_users,n_features)(U)\n",
    "    \n",
    "    \n",
    "    path2=Embedding(n_items,(40*300),name='Pre-trained_Movie_Embedding',)(M)\n",
    "    \n",
    "    ####for intializing with sentence embeddings\n",
    "    #path1.set_weights([a])\n",
    "    path1=Reshape((n_features,))(path1)\n",
    "    path1=Dense(256,activation='gelu', kernel_initializer='uniform')(path1)\n",
    "    \n",
    "    path2=Reshape((40,300))(path2)\n",
    "    path2=Bidirectional(LSTM(256,input_shape=(40,300),return_sequences=True))(path2)\n",
    "    path2=SeqSelfAttention(attention_type=SeqSelfAttention.ATTENTION_TYPE_MUL,attention_activation='sigmoid')(path2)\n",
    "    path2=TimeDistributed(Dense(8,activation='gelu', kernel_initializer='uniform'))(path2)\n",
    "    path2=Bidirectional(LSTM(256))(path2)\n",
    "    #path2=SeqSelfAttention(attention_type=SeqSelfAttention.ATTENTION_TYPE_MUL,attention_activation='sigmoid')(path2)\n",
    "    path2=Dense(256,activation='gelu', kernel_initializer='uniform')(path2)\n",
    "    #merged=(axes=1)([path1,path2])\n",
    "    merged = Concatenate()([path1, path2]) \n",
    "    \n",
    "    merged= Dense(128,activation='gelu', kernel_initializer='uniform')(merged)\n",
    "    merged_1 = BatchNormalization()(merged)\n",
    "    merged= Dense(256,activation='gelu', kernel_initializer='uniform')(merged_1)\n",
    "    merged_2 = BatchNormalization()(merged)\n",
    "    merged=Dropout(0.1)(merged_2)\n",
    "    merged= Dense(512,activation='gelu', kernel_initializer='uniform')(merged)\n",
    "    merged_3 = BatchNormalization()(merged)\n",
    "    merged= Dense(1024,activation='gelu', kernel_initializer='uniform')(merged_3)\n",
    "    merged = BatchNormalization()(merged)\n",
    "    merged= Dense(512,activation='gelu', kernel_initializer='uniform')(merged)\n",
    "    merged = BatchNormalization()(merged)\n",
    "    ###########Skip connection 1\n",
    "    merged= Add()([merged, merged_3])\n",
    "    \n",
    "    merged= Dense(256,activation='gelu', kernel_initializer='uniform')(merged)\n",
    "    merged = BatchNormalization()(merged)\n",
    "    ###########Skip connection 2\n",
    "    merged= Add()([merged, merged_2])\n",
    "    \n",
    "    \n",
    "    merged= Dense(128,activation='gelu', kernel_initializer='uniform')(merged)\n",
    "    merged = BatchNormalization()(merged)\n",
    "    ###########Skip connection 3\n",
    "    merged=Add()([merged_1,merged])\n",
    "    \n",
    "    merged= Dense(64,activation='gelu', kernel_initializer='uniform')(merged)\n",
    "    merged = BatchNormalization()(merged)\n",
    "    merged=Dropout(0.1)(merged)\n",
    "    merged= Dense(32,activation='gelu', kernel_initializer='uniform')(merged)\n",
    "    merged = BatchNormalization()(merged)\n",
    "    merged= Dense(16,activation='gelu', kernel_initializer='uniform')(merged)\n",
    "    merged = BatchNormalization()(merged)\n",
    "    merged= Dense(8,activation='gelu', kernel_initializer='uniform')(merged)\n",
    "    merged = BatchNormalization()(merged)\n",
    "    merged= Dense(1,activation='gelu', kernel_initializer='uniform')(merged)\n",
    "    \n",
    "    \n",
    "    \n",
    "    model = Model(inputs=[U,M], outputs=merged, name='NCF_Model_7')\n",
    "    return model\n",
    "\n",
    "def NCF_Model(model):\n",
    "    if(model==1):\n",
    "        return NCF_Model1(1024,3706,6040)\n",
    "    if(model==2):\n",
    "        return NCF_Model2(1024,3706,6040)\n",
    "    if(model==3):\n",
    "        return NCF_Model3(1024,3706,6040)\n",
    "    if(model==4):\n",
    "        return NCF_Model4(300,3706,6040)               \n",
    "    if(model==5):\n",
    "        return NCF_Model5(300,3706,6040)\n",
    "    if(model==6):\n",
    "        return NCF_Model6(1024,3706,6040)\n",
    "    if(model==7):\n",
    "        return NCF_Model7(1024,3706,6040)    \n",
    "\n"
   ]
  },
  {
   "cell_type": "code",
   "execution_count": 21,
   "metadata": {
    "id": "espJsBKHy8zd"
   },
   "outputs": [],
   "source": [
    "def NCF_recommend(model,user_id,num_movies):\n",
    "   \n",
    "    df = pd.DataFrame({\"user_id\":[user_id for x in range(3706)], \"movie_id\":[x for x in range(3706)]})\n",
    "    \n",
    "    X=df[['user_id','movie_id']].to_numpy()\n",
    "    X = [X[:, 0], X[:, 1]]\n",
    "    b=[[user_id for x in range(3706)],[x for x in range(3706)]]\n",
    "    a=model.predict(X)\n",
    "    a= pd.DataFrame({'movie_id':df.movie_id.values.flatten(),'user_id':df.user_id.values.flatten(),'rating':a.flatten()})\n",
    "    a=a.sort_values('rating',ascending=False).iloc[:num_movies]\n",
    "    preds=[]\n",
    "    for i in a.movie_id.values:\n",
    "        preds.append(movies[movies.movie_id==i].title.item())\n",
    "    return preds"
   ]
  },
  {
   "cell_type": "code",
   "execution_count": 24,
   "metadata": {
    "id": "QwBXXLiNNb3X"
   },
   "outputs": [
    {
     "name": "stdout",
     "output_type": "stream",
     "text": [
      "Enter user ID: 14\n",
      "Enter number of movies to be recommended 6\n",
      "Enter your model number 6\n",
      "116/116 [==============================] - 2s 6ms/step\n"
     ]
    },
    {
     "data": {
      "text/plain": [
       "['Red Firecracker, Green Firecracker (1994)',\n",
       " 'Radioland Murders (1994)',\n",
       " 'I Stand Alone (Seul contre tous) (1998)',\n",
       " 'Borrowers, The (1997)',\n",
       " 'Backbeat (1993)',\n",
       " 'When Night Is Falling (1995)']"
      ]
     },
     "execution_count": 24,
     "metadata": {},
     "output_type": "execute_result"
    }
   ],
   "source": [
    "user_id = int(input(\"Enter user ID: \"))\n",
    "num_movies=int(input(\"Enter number of movies to be recommended \"))\n",
    "model_num=int(input(\"Enter your model number \"))\n",
    "m=NCF_Model(model_num)\n",
    "m.load_weights('Checkpoints/NCF'+str(model_num)+'.h5')\n",
    "\n",
    "NCF_recommend(m,user_id,num_movies)"
   ]
  },
  {
   "cell_type": "markdown",
   "metadata": {
    "id": "CO4i2yzivm0Q"
   },
   "source": [
    "# Based on Most-Recently-Watched Movie"
   ]
  },
  {
   "cell_type": "code",
   "execution_count": 25,
   "metadata": {
    "id": "GT-UtUOhxhYQ"
   },
   "outputs": [],
   "source": [
    "def recommend_through_recent(user_id,num_movies):\n",
    "    user_ratings=ratings.loc[ratings.user_id==user_id]\n",
    "    user_ratings=user_ratings.sort_values('timestamp',ascending=False).iloc[0]\n",
    "    movie_emb=movies[movies.movie_id==user_ratings.movie_id.item()].embeddings.item()\n",
    "    preds=[]\n",
    "    for row in movies.itertuples():\n",
    "        preds.append((row.title,cos_sim(movie_emb,row.embeddings)))\n",
    "        \n",
    "    preds.sort(key = lambda x: -x[1])\n",
    "    return [x[0] for x in preds][1:num_movies]"
   ]
  },
  {
   "cell_type": "code",
   "execution_count": 26,
   "metadata": {
    "id": "UnTxNz0l3kvE"
   },
   "outputs": [
    {
     "name": "stdout",
     "output_type": "stream",
     "text": [
      "Enter user ID: 12\n",
      "Enter number of movies to be recommended 15\n"
     ]
    },
    {
     "data": {
      "text/plain": [
       "['Fall Time (1995)',\n",
       " 'Thunderbolt and Lightfoot (1974)',\n",
       " 'I Woke Up Early the Day I Died (1998)',\n",
       " 'Blue Collar (1978)',\n",
       " 'Hot Spot, The (1990)',\n",
       " 'Police Academy 6: City Under Siege (1989)',\n",
       " 'American Buffalo (1996)',\n",
       " 'Half Baked (1998)',\n",
       " 'Bottle Rocket (1996)',\n",
       " 'Simpatico (1999)',\n",
       " 'Monty Python and the Holy Grail (1974)',\n",
       " 'Legal Deceit (1997)',\n",
       " 'Joyriders, The (1999)',\n",
       " 'Needful Things (1993)']"
      ]
     },
     "execution_count": 26,
     "metadata": {},
     "output_type": "execute_result"
    }
   ],
   "source": [
    "user_id = int(input(\"Enter user ID: \"))\n",
    "num_movies=int(input(\"Enter number of movies to be recommended \"))\n",
    "recommend_through_recent(user_id,num_movies)"
   ]
  },
  {
   "cell_type": "markdown",
   "metadata": {
    "id": "aZL-7ZtHvtaW"
   },
   "source": [
    "# Cold Start 1: Highest rated, most recent movies"
   ]
  },
  {
   "cell_type": "code",
   "execution_count": 29,
   "metadata": {
    "id": "Dezgc_YJ0pHC"
   },
   "outputs": [
    {
     "name": "stdout",
     "output_type": "stream",
     "text": [
      "['Action', 'Adventure', 'Animation', \"Children's\", 'Comedy', 'Crime', 'Documentary', 'Drama', 'Fantasy', 'Film-Noir', 'Horror', 'Musical', 'Mystery', 'Romance', 'Sci-Fi', 'Thriller', 'War', 'Western']\n"
     ]
    }
   ],
   "source": [
    "#creating list of available genres\n",
    "\n",
    "tempList = np.ndarray.tolist(movies['genre'].unique())\n",
    "listGenres = []\n",
    "maxGenreNum = 0\n",
    "for genres in tempList:\n",
    "    s = genres.split(\" \")\n",
    "    maxGenreNum = max(len(s), maxGenreNum)\n",
    "    for genre in s:\n",
    "        if(genre not in listGenres): listGenres.append(genre)\n",
    "\n",
    "listGenres.sort()\n",
    "print(listGenres)"
   ]
  },
  {
   "cell_type": "code",
   "execution_count": 30,
   "metadata": {
    "id": "zm8AHrPA1wt3"
   },
   "outputs": [],
   "source": [
    "#loading average user ratings and average timestamp of viewing per movie (pickled file)\n",
    "\n",
    "import pickle\n",
    "file1 = open(\"data/avgRatings.pkl\",'rb')\n",
    "avgRatings = pickle.load(file1)"
   ]
  },
  {
   "cell_type": "code",
   "execution_count": 32,
   "metadata": {},
   "outputs": [
    {
     "data": {
      "text/html": [
       "<div>\n",
       "<style scoped>\n",
       "    .dataframe tbody tr th:only-of-type {\n",
       "        vertical-align: middle;\n",
       "    }\n",
       "\n",
       "    .dataframe tbody tr th {\n",
       "        vertical-align: top;\n",
       "    }\n",
       "\n",
       "    .dataframe thead th {\n",
       "        text-align: right;\n",
       "    }\n",
       "</style>\n",
       "<table border=\"1\" class=\"dataframe\">\n",
       "  <thead>\n",
       "    <tr style=\"text-align: right;\">\n",
       "      <th></th>\n",
       "      <th>movie_id</th>\n",
       "      <th>rating</th>\n",
       "      <th>timestamp</th>\n",
       "    </tr>\n",
       "  </thead>\n",
       "  <tbody>\n",
       "    <tr>\n",
       "      <th>0</th>\n",
       "      <td>1.0</td>\n",
       "      <td>4.167235</td>\n",
       "      <td>9.787210e+08</td>\n",
       "    </tr>\n",
       "    <tr>\n",
       "      <th>1</th>\n",
       "      <td>2.0</td>\n",
       "      <td>3.292929</td>\n",
       "      <td>9.778557e+08</td>\n",
       "    </tr>\n",
       "    <tr>\n",
       "      <th>2</th>\n",
       "      <td>3.0</td>\n",
       "      <td>3.150685</td>\n",
       "      <td>9.776967e+08</td>\n",
       "    </tr>\n",
       "    <tr>\n",
       "      <th>3</th>\n",
       "      <td>4.0</td>\n",
       "      <td>2.652174</td>\n",
       "      <td>9.803076e+08</td>\n",
       "    </tr>\n",
       "    <tr>\n",
       "      <th>4</th>\n",
       "      <td>5.0</td>\n",
       "      <td>2.951220</td>\n",
       "      <td>9.779067e+08</td>\n",
       "    </tr>\n",
       "  </tbody>\n",
       "</table>\n",
       "</div>"
      ],
      "text/plain": [
       "   movie_id    rating     timestamp\n",
       "0       1.0  4.167235  9.787210e+08\n",
       "1       2.0  3.292929  9.778557e+08\n",
       "2       3.0  3.150685  9.776967e+08\n",
       "3       4.0  2.652174  9.803076e+08\n",
       "4       5.0  2.951220  9.779067e+08"
      ]
     },
     "execution_count": 32,
     "metadata": {},
     "output_type": "execute_result"
    }
   ],
   "source": [
    "avgRatings.head()\n",
    "#Avg rating and timestamp"
   ]
  },
  {
   "cell_type": "code",
   "execution_count": 33,
   "metadata": {
    "id": "NqE4u-tP17iT"
   },
   "outputs": [],
   "source": [
    "final_movies_ratings = avgRatings.sort_values(by=['rating', 'timestamp'], ascending=[False, False])\n",
    "def printTopMovies(final_by_rating, k):\n",
    "    i = 0\n",
    "    moviesRet = []\n",
    "    for row in final_by_rating.itertuples():\n",
    "        i += 1\n",
    "        if(i>k):\n",
    "            break\n",
    "        else:\n",
    "            movieID = row.movie_id\n",
    "            movieName = movies.loc[(movies['movie_id']==movieID), 'title'].iloc[0]\n",
    "            moviesRet.append(movieName)\n",
    "  \n",
    "    for movie in moviesRet:\n",
    "        print(movie)\n",
    "\n"
   ]
  },
  {
   "cell_type": "code",
   "execution_count": 34,
   "metadata": {},
   "outputs": [
    {
     "name": "stdout",
     "output_type": "stream",
     "text": [
      "Enter number of movies: 14\n",
      "West Beirut (West Beyrouth) (1998)\n",
      "Big Combo, The (1955)\n",
      "Land and Freedom (Tierra y libertad) (1995)\n",
      "Contempt (Le M�pris) (1963)\n",
      "Only Angels Have Wings (1939)\n",
      "Ballad of Narayama, The (Narayama Bushiko) (1958)\n",
      "Midaq Alley (Callej�n de los milagros, El) (1995)\n",
      "Autumn Sonata (H�stsonaten ) (1978)\n",
      "Baby, The (1973)\n",
      "Johns (1996)\n",
      "Gate of Heavenly Peace, The (1995)\n",
      "Onegin (1999)\n",
      "Jupiter's Wife (1994)\n",
      "Hearts and Minds (1996)\n"
     ]
    }
   ],
   "source": [
    "num_ret = input(\"Enter number of movies: \")\n",
    "\n",
    "printTopMovies(final_movies_ratings, int(num_ret))"
   ]
  },
  {
   "cell_type": "markdown",
   "metadata": {
    "id": "nGGeIPfcv4B3"
   },
   "source": [
    "# Cold Start 2: Based on Favourite Movie"
   ]
  },
  {
   "cell_type": "code",
   "execution_count": 36,
   "metadata": {
    "id": "qxAQIBlcjnf-"
   },
   "outputs": [],
   "source": [
    "import numpy as np\n",
    "import pandas as pd\n",
    "import pickle\n",
    "import time\n",
    "#from sentence_transformers import SentenceTransformer\n",
    "#tokenizer = SentenceTransformer('stsb-roberta-large')\n",
    "'''\n",
    "movies=pd.read_csv('COL764-Project/movies_scraped.csv')\n",
    "movies.description=movies.description+\" \"+movies.title+\" \"+movies.genre\n",
    "#movies['embeddings']=movies.description.apply(lambda x: tokenizer.encode(str(x)))\n",
    "movies['embeddings']=pickle.load( open( \"COL764-Project/embeds.pkl\", \"rb\" ) )\n",
    "ratings=pd.read_csv('COL764-Project/ratings.csv')\n",
    "'''\n",
    "movie_list=movies.title.values\n",
    "def recommend_through_fav_movie(movie,num_movies):\n",
    "    \n",
    "    movie_emb=movies[movies.title==movie].embeddings.item()\n",
    "\n",
    "    preds=[]\n",
    "    for row in movies.itertuples():\n",
    "        \n",
    "        preds.append((row.title,cos_sim(movie_emb,row.embeddings)))\n",
    "        \n",
    "    preds.sort(key = lambda x: -x[1])\n",
    "    return [x[0] for x in preds][1:num_movies]\n",
    "\n",
    "\n",
    "    \n",
    "    "
   ]
  },
  {
   "cell_type": "code",
   "execution_count": 37,
   "metadata": {
    "colab": {
     "base_uri": "https://localhost:8080/"
    },
    "id": "Kb-r21nq39E8",
    "outputId": "8b7ce330-3413-4c88-817a-3ad0fd644b83"
   },
   "outputs": [
    {
     "name": "stdout",
     "output_type": "stream",
     "text": [
      "['Toy Story (1995)' 'Jumanji (1995)' 'Grumpier Old Men (1995)' ...\n",
      " 'Tigerland (2000)' 'Two Family House (2000)' 'Contender, The (2000)']\n"
     ]
    }
   ],
   "source": [
    "print(movie_list)"
   ]
  },
  {
   "cell_type": "code",
   "execution_count": 38,
   "metadata": {
    "colab": {
     "base_uri": "https://localhost:8080/"
    },
    "id": "J9r1Z8kd39cb",
    "outputId": "f8e069a2-162a-4e27-96ec-6d0d12b2039f"
   },
   "outputs": [
    {
     "name": "stdout",
     "output_type": "stream",
     "text": [
      "Enter your favourite movie from the above list Jumanji (1995)\n",
      "Enter number of movies to be recommended 10\n"
     ]
    },
    {
     "data": {
      "text/plain": [
       "['NeverEnding Story III, The (1994)',\n",
       " 'NeverEnding Story II: The Next Chapter, The (1990)',\n",
       " 'Jurassic Park (1993)',\n",
       " 'Pagemaster, The (1994)',\n",
       " 'Mighty Morphin Power Rangers: The Movie (1995)',\n",
       " 'Muppets From Space (1999)',\n",
       " '3 Ninjas: High Noon On Mega Mountain (1998)',\n",
       " 'Kazaam (1996)',\n",
       " 'Virtuosity (1995)']"
      ]
     },
     "execution_count": 38,
     "metadata": {},
     "output_type": "execute_result"
    }
   ],
   "source": [
    "movie=input('Enter your favourite movie from the above list ')\n",
    "num_movies=int(input('Enter number of movies to be recommended '))\n",
    "recommend_through_fav_movie(movie,num_movies)"
   ]
  },
  {
   "cell_type": "code",
   "execution_count": null,
   "metadata": {
    "id": "K7_525_QtuUd"
   },
   "outputs": [],
   "source": []
  },
  {
   "cell_type": "markdown",
   "metadata": {
    "id": "qN402hEov9Sg"
   },
   "source": [
    "# Cold Start 3: Based on Favourite Genre"
   ]
  },
  {
   "cell_type": "code",
   "execution_count": 39,
   "metadata": {
    "colab": {
     "base_uri": "https://localhost:8080/"
    },
    "id": "ki0oMP2Rt4Gs",
    "outputId": "bb7c1b9f-5e7d-4f92-d9ef-be038be05538"
   },
   "outputs": [
    {
     "name": "stdout",
     "output_type": "stream",
     "text": [
      "List of available genres: \n",
      "Action\n",
      "Adventure\n",
      "Animation\n",
      "Children's\n",
      "Comedy\n",
      "Crime\n",
      "Documentary\n",
      "Drama\n",
      "Fantasy\n",
      "Film-Noir\n",
      "Horror\n",
      "Musical\n",
      "Mystery\n",
      "Romance\n",
      "Sci-Fi\n",
      "Thriller\n",
      "War\n",
      "Western\n",
      "\n",
      "\n",
      "Enter your favourite genre: Sci-Fi\n"
     ]
    }
   ],
   "source": [
    "print(\"List of available genres: \")\n",
    "for genre in listGenres:\n",
    "    print(genre)\n",
    "print(\"\\n\")\n",
    "\n",
    "\n",
    "genreFav = input(\"Enter your favourite genre: \")\n",
    "genreList = [genreFav]\n",
    "movies['genre']=movies['genre'].apply(lambda x: x.split())\n",
    "moviesRelev = movies[pd.DataFrame(movies.genre.tolist()).isin(genreList).any(1).values]\n",
    "\n",
    "\n"
   ]
  },
  {
   "cell_type": "code",
   "execution_count": 40,
   "metadata": {
    "colab": {
     "base_uri": "https://localhost:8080/"
    },
    "id": "g7Idg5DPuHqr",
    "outputId": "f273a7ea-5a98-4acd-9a9b-75b7d01b5bed"
   },
   "outputs": [
    {
     "name": "stdout",
     "output_type": "stream",
     "text": [
      "Enter number of movies: 14\n",
      "Star Wars: Episode IV - A New Hope (1977)\n",
      "Dr. Strangelove or: How I Learned to Stop Worrying and Love the Bomb (1963)\n",
      "Matrix, The (1999)\n",
      "Metropolis (1926)\n",
      "Fantastic Planet, The (La Plan�te sauvage) (1973)\n",
      "Star Wars: Episode V - The Empire Strikes Back (1980)\n",
      "Day the Earth Stood Still, The (1951)\n",
      "Open Your Eyes (Abre los ojos) (1997)\n",
      "Delicatessen (1991)\n",
      "Terminator, The (1984)\n",
      "City of Lost Children, The (1995)\n",
      "Blade Runner (1982)\n",
      "Ghost in the Shell (Kokaku kidotai) (1995)\n",
      "Solaris (Solyaris) (1972)\n"
     ]
    }
   ],
   "source": [
    "ratingsGenreSpec = {}\n",
    "\n",
    "final_movies_ratings = avgRatings.sort_values(by=['rating'], ascending=False)\n",
    "\n",
    "moviesRelev = moviesRelev.sort_values(by=['movie_id'], ascending = True)\n",
    "relevMovies = []\n",
    "prevMovie = -1\n",
    "for row in moviesRelev.itertuples():\n",
    "    movieID = row.movie_id\n",
    "    relevMovies.append(movieID)\n",
    "    #ratingsGenreSpec[movieID] = avgDict[movieID]\n",
    "    #then sort this smaller dict by: \n",
    "    #ratingsGenreSpec = sorted(ratingsGenreSpec, key=lambda k: (k['starttime'], k['time']))\n",
    "\n",
    "ratingsRelev = avgRatings[avgRatings['movie_id'].isin(relevMovies)]\n",
    "finalRatings = ratingsRelev.sort_values(by=['rating', 'timestamp'], ascending=[False, False])\n",
    "\n",
    "int_inp = input(\"Enter number of movies: \")\n",
    "printTopMovies(finalRatings, int(int_inp))"
   ]
  },
  {
   "cell_type": "code",
   "execution_count": null,
   "metadata": {
    "id": "nrjsxUj9uKAD"
   },
   "outputs": [],
   "source": []
  },
  {
   "cell_type": "code",
   "execution_count": null,
   "metadata": {
    "id": "5CRJmDohuVTF"
   },
   "outputs": [],
   "source": []
  },
  {
   "cell_type": "code",
   "execution_count": null,
   "metadata": {
    "id": "RIfFrhQ_uZb3"
   },
   "outputs": [],
   "source": []
  }
 ],
 "metadata": {
  "accelerator": "GPU",
  "colab": {
   "collapsed_sections": [],
   "name": "DEMO.ipynb",
   "provenance": [],
   "toc_visible": true
  },
  "kernelspec": {
   "display_name": "Python (shubham)",
   "language": "python",
   "name": "shubham"
  },
  "language_info": {
   "codemirror_mode": {
    "name": "ipython",
    "version": 3
   },
   "file_extension": ".py",
   "mimetype": "text/x-python",
   "name": "python",
   "nbconvert_exporter": "python",
   "pygments_lexer": "ipython3",
   "version": "3.9.12"
  }
 },
 "nbformat": 4,
 "nbformat_minor": 1
}
